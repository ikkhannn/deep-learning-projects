{
 "cells": [
  {
   "cell_type": "code",
   "execution_count": 27,
   "metadata": {},
   "outputs": [],
   "source": [
    "import numpy as np\n",
    "import pandas as pd\n",
    "from keras.models import Sequential\n",
    "from keras.layers import Dense\n",
    "from keras.wrappers.scikit_learn import KerasClassifier\n",
    "from sklearn.model_selection import cross_val_score\n",
    "from sklearn.preprocessing import LabelEncoder\n",
    "from sklearn.model_selection import StratifiedKFold\n",
    "from sklearn.preprocessing import StandardScaler\n",
    "from sklearn.pipeline import Pipeline\n"
   ]
  },
  {
   "cell_type": "code",
   "execution_count": 28,
   "metadata": {},
   "outputs": [],
   "source": [
    "seed = 7\n",
    "np.random.seed(seed)"
   ]
  },
  {
   "cell_type": "code",
   "execution_count": 29,
   "metadata": {},
   "outputs": [],
   "source": [
    "dataframe = pd.read_csv(\"sonar.csv\", header=None)\n",
    "dataset = dataframe.values\n",
    "# split into input (X) and output (Y) variables\n",
    "from keras.utils.np_utils import to_categorical\n",
    "from sklearn.preprocessing import LabelEncoder, OneHotEncoder\n",
    "\n",
    "le = LabelEncoder()\n",
    "\n",
    "X = dataset[:,0:60].astype(float)\n",
    "\n",
    "Y = dataset[:,60]\n",
    "Y=le.fit_transform(dataset[:,60])\n",
    "\n",
    "\n",
    "from sklearn.model_selection import train_test_split\n",
    "\n",
    "x_train, x_test, y_train, y_test = train_test_split(X, Y, test_size=0.33, shuffle= True)\n",
    "\n",
    "one_hot_train_labels=to_categorical(y_train)\n",
    "one_hot_test_labels=to_categorical(y_test)\n",
    "\n",
    "x_val=x_train[:25]\n",
    "partial_x_train=x_train[25:]\n",
    "\n",
    "y_val=one_hot_train_labels[:25]\n",
    "partial_y_train=one_hot_train_labels[25:]"
   ]
  },
  {
   "cell_type": "code",
   "execution_count": 3,
   "metadata": {},
   "outputs": [],
   "source": []
  },
  {
   "cell_type": "code",
   "execution_count": 34,
   "metadata": {},
   "outputs": [],
   "source": [
    "def create_baseline():\n",
    "    model=Sequential()\n",
    "    model.add(Dense(32,activation='relu',input_shape=(60,)))\n",
    "    model.add(Dense(2,activation='softmax'))\n",
    "    model.compile(optimizer='rmsprop',loss='binary_crossentropy',metrics=['accuracy'])\n",
    "    \n",
    "    model.fit(partial_x_train,partial_y_train,epochs=5,validation_data=(x_val,y_val))"
   ]
  },
  {
   "cell_type": "code",
   "execution_count": 35,
   "metadata": {},
   "outputs": [
    {
     "name": "stdout",
     "output_type": "stream",
     "text": [
      "WARNING:tensorflow:From C:\\Users\\me\\Anaconda3\\envs\\ml\\lib\\site-packages\\keras\\backend\\tensorflow_backend.py:3657: The name tf.log is deprecated. Please use tf.math.log instead.\n",
      "\n",
      "WARNING:tensorflow:From C:\\Users\\me\\Anaconda3\\envs\\ml\\lib\\site-packages\\tensorflow\\python\\ops\\nn_impl.py:180: add_dispatch_support.<locals>.wrapper (from tensorflow.python.ops.array_ops) is deprecated and will be removed in a future version.\n",
      "Instructions for updating:\n",
      "Use tf.where in 2.0, which has the same broadcast rule as np.where\n",
      "WARNING:tensorflow:From C:\\Users\\me\\Anaconda3\\envs\\ml\\lib\\site-packages\\keras\\backend\\tensorflow_backend.py:1033: The name tf.assign_add is deprecated. Please use tf.compat.v1.assign_add instead.\n",
      "\n",
      "Train on 114 samples, validate on 25 samples\n",
      "Epoch 1/5\n",
      "114/114 [==============================] - 0s 3ms/step - loss: 0.6880 - acc: 0.5263 - val_loss: 0.6536 - val_acc: 0.8800\n",
      "Epoch 2/5\n",
      "114/114 [==============================] - 0s 70us/step - loss: 0.6703 - acc: 0.5614 - val_loss: 0.6479 - val_acc: 0.8400\n",
      "Epoch 3/5\n",
      "114/114 [==============================] - 0s 70us/step - loss: 0.6603 - acc: 0.6140 - val_loss: 0.6397 - val_acc: 0.6800\n",
      "Epoch 4/5\n",
      "114/114 [==============================] - 0s 52us/step - loss: 0.6544 - acc: 0.6140 - val_loss: 0.6365 - val_acc: 0.8400\n",
      "Epoch 5/5\n",
      "114/114 [==============================] - 0s 52us/step - loss: 0.6500 - acc: 0.6140 - val_loss: 0.6340 - val_acc: 0.8800\n"
     ]
    }
   ],
   "source": [
    "create_baseline()"
   ]
  },
  {
   "cell_type": "code",
   "execution_count": null,
   "metadata": {},
   "outputs": [],
   "source": []
  }
 ],
 "metadata": {
  "kernelspec": {
   "display_name": "Python 3",
   "language": "python",
   "name": "python3"
  },
  "language_info": {
   "codemirror_mode": {
    "name": "ipython",
    "version": 3
   },
   "file_extension": ".py",
   "mimetype": "text/x-python",
   "name": "python",
   "nbconvert_exporter": "python",
   "pygments_lexer": "ipython3",
   "version": "3.7.4"
  }
 },
 "nbformat": 4,
 "nbformat_minor": 2
}
